{
 "cells": [
  {
   "cell_type": "code",
   "execution_count": 1,
   "id": "4dd2797c",
   "metadata": {},
   "outputs": [
    {
     "name": "stderr",
     "output_type": "stream",
     "text": [
      "Duplicate key in file WindowsPath('C:/Users/ACER/anaconda3/lib/site-packages/matplotlib/mpl-data/matplotlibrc'), line 266 ('font.sans-serif: DejaVu Sans, Bitstream Vera Sans, Computer Modern Sans Serif, Lucida Grande, Verdana, Geneva, Lucid, Arial, Helvetica, Avant Garde, sans-serif')\n"
     ]
    }
   ],
   "source": [
    "%matplotlib inline\n",
    "# -*- coding: UTF-8 -*-\n",
    "import pandas as pd\n",
    "\n",
    "import matplotlib as plt\n",
    "import numpy as np\n",
    "import matplotlib.pyplot as plt\n",
    "import seaborn as sns\n",
    "import math\n",
    "import scipy as sp\n",
    "import statsmodels.api as sm"
   ]
  },
  {
   "cell_type": "markdown",
   "id": "aa361616",
   "metadata": {},
   "source": [
    "# Question 2"
   ]
  },
  {
   "cell_type": "code",
   "execution_count": 2,
   "id": "64a2b254",
   "metadata": {},
   "outputs": [],
   "source": [
    "nsample = 1000\n",
    "np.random.seed(33)\n",
    "x = np.random.normal(size = nsample)\n",
    "eps = np.random.normal(scale = x**2)"
   ]
  },
  {
   "cell_type": "code",
   "execution_count": 3,
   "id": "60508d89",
   "metadata": {},
   "outputs": [],
   "source": [
    "y = 0*x+eps"
   ]
  },
  {
   "cell_type": "code",
   "execution_count": 4,
   "id": "d333cef0",
   "metadata": {},
   "outputs": [
    {
     "data": {
      "text/html": [
       "<table class=\"simpletable\">\n",
       "<caption>OLS Regression Results</caption>\n",
       "<tr>\n",
       "  <th>Dep. Variable:</th>            <td>y</td>        <th>  R-squared (uncentered):</th>      <td>   0.003</td>\n",
       "</tr>\n",
       "<tr>\n",
       "  <th>Model:</th>                   <td>OLS</td>       <th>  Adj. R-squared (uncentered):</th> <td>   0.002</td>\n",
       "</tr>\n",
       "<tr>\n",
       "  <th>Method:</th>             <td>Least Squares</td>  <th>  F-statistic:       </th>          <td>   3.185</td>\n",
       "</tr>\n",
       "<tr>\n",
       "  <th>Date:</th>             <td>Tue, 18 Oct 2022</td> <th>  Prob (F-statistic):</th>           <td>0.0746</td> \n",
       "</tr>\n",
       "<tr>\n",
       "  <th>Time:</th>                 <td>01:12:45</td>     <th>  Log-Likelihood:    </th>          <td> -1896.4</td>\n",
       "</tr>\n",
       "<tr>\n",
       "  <th>No. Observations:</th>      <td>  1000</td>      <th>  AIC:               </th>          <td>   3795.</td>\n",
       "</tr>\n",
       "<tr>\n",
       "  <th>Df Residuals:</th>          <td>   999</td>      <th>  BIC:               </th>          <td>   3800.</td>\n",
       "</tr>\n",
       "<tr>\n",
       "  <th>Df Model:</th>              <td>     1</td>      <th>                     </th>              <td> </td>   \n",
       "</tr>\n",
       "<tr>\n",
       "  <th>Covariance Type:</th>      <td>nonrobust</td>    <th>                     </th>              <td> </td>   \n",
       "</tr>\n",
       "</table>\n",
       "<table class=\"simpletable\">\n",
       "<tr>\n",
       "   <td></td>     <th>coef</th>     <th>std err</th>      <th>t</th>      <th>P>|t|</th>  <th>[0.025</th>    <th>0.975]</th>  \n",
       "</tr>\n",
       "<tr>\n",
       "  <th>x1</th> <td>   -0.0942</td> <td>    0.053</td> <td>   -1.785</td> <td> 0.075</td> <td>   -0.198</td> <td>    0.009</td>\n",
       "</tr>\n",
       "</table>\n",
       "<table class=\"simpletable\">\n",
       "<tr>\n",
       "  <th>Omnibus:</th>       <td>271.555</td> <th>  Durbin-Watson:     </th> <td>   1.979</td> \n",
       "</tr>\n",
       "<tr>\n",
       "  <th>Prob(Omnibus):</th> <td> 0.000</td>  <th>  Jarque-Bera (JB):  </th> <td>11331.379</td>\n",
       "</tr>\n",
       "<tr>\n",
       "  <th>Skew:</th>          <td> 0.453</td>  <th>  Prob(JB):          </th> <td>    0.00</td> \n",
       "</tr>\n",
       "<tr>\n",
       "  <th>Kurtosis:</th>      <td>19.466</td>  <th>  Cond. No.          </th> <td>    1.00</td> \n",
       "</tr>\n",
       "</table><br/><br/>Notes:<br/>[1] R² is computed without centering (uncentered) since the model does not contain a constant.<br/>[2] Standard Errors assume that the covariance matrix of the errors is correctly specified."
      ],
      "text/plain": [
       "<class 'statsmodels.iolib.summary.Summary'>\n",
       "\"\"\"\n",
       "                                 OLS Regression Results                                \n",
       "=======================================================================================\n",
       "Dep. Variable:                      y   R-squared (uncentered):                   0.003\n",
       "Model:                            OLS   Adj. R-squared (uncentered):              0.002\n",
       "Method:                 Least Squares   F-statistic:                              3.185\n",
       "Date:                Tue, 18 Oct 2022   Prob (F-statistic):                      0.0746\n",
       "Time:                        01:12:45   Log-Likelihood:                         -1896.4\n",
       "No. Observations:                1000   AIC:                                      3795.\n",
       "Df Residuals:                     999   BIC:                                      3800.\n",
       "Df Model:                           1                                                  \n",
       "Covariance Type:            nonrobust                                                  \n",
       "==============================================================================\n",
       "                 coef    std err          t      P>|t|      [0.025      0.975]\n",
       "------------------------------------------------------------------------------\n",
       "x1            -0.0942      0.053     -1.785      0.075      -0.198       0.009\n",
       "==============================================================================\n",
       "Omnibus:                      271.555   Durbin-Watson:                   1.979\n",
       "Prob(Omnibus):                  0.000   Jarque-Bera (JB):            11331.379\n",
       "Skew:                           0.453   Prob(JB):                         0.00\n",
       "Kurtosis:                      19.466   Cond. No.                         1.00\n",
       "==============================================================================\n",
       "\n",
       "Notes:\n",
       "[1] R² is computed without centering (uncentered) since the model does not contain a constant.\n",
       "[2] Standard Errors assume that the covariance matrix of the errors is correctly specified.\n",
       "\"\"\""
      ]
     },
     "execution_count": 4,
     "metadata": {},
     "output_type": "execute_result"
    }
   ],
   "source": [
    "model = sm.OLS(y,x)\n",
    "results = model.fit()\n",
    "results.summary()"
   ]
  },
  {
   "cell_type": "code",
   "execution_count": 5,
   "id": "c2cc4d1b",
   "metadata": {},
   "outputs": [],
   "source": [
    "b_hat = results.params\n",
    "results = model.fit()\n",
    "t1 = results.tvalues\n",
    "results = model.fit(cov_type='HC0')\n",
    "t2 = results.tvalues"
   ]
  },
  {
   "cell_type": "code",
   "execution_count": 6,
   "id": "84d33092",
   "metadata": {},
   "outputs": [],
   "source": [
    "b_hat_lst = []\n",
    "t1_lst = []\n",
    "t2_lst = []\n",
    "\n",
    "for i in range(500):\n",
    "    np.random.seed(i*i)\n",
    "    x = np.random.normal(size = nsample)\n",
    "    eps = np.random.normal(scale = x**2)\n",
    "    y = 0*x+eps\n",
    "    model = sm.OLS(y,x)\n",
    "    results = model.fit()\n",
    "    b_hat_lst.append(results.params)\n",
    "    t1_lst.append(results.tvalues)\n",
    "    results = model.fit(cov_type='HC0')\n",
    "    t2_lst.append(results.tvalues)"
   ]
  },
  {
   "cell_type": "code",
   "execution_count": 7,
   "id": "3670c2bf",
   "metadata": {},
   "outputs": [
    {
     "data": {
      "text/plain": [
       "(0.007977936541811824, 0.388, 0.044)"
      ]
     },
     "execution_count": 7,
     "metadata": {},
     "output_type": "execute_result"
    }
   ],
   "source": [
    "b_hat_avg = np.array(b_hat_lst).mean()\n",
    "pt1 = len(np.array(t1_lst)[np.abs(np.array(t1_lst))>1.96])/len(t1_lst)\n",
    "pt2 = len(np.array(t2_lst)[np.abs(np.array(t2_lst))>1.96])/len(t2_lst)\n",
    "b_hat_avg,pt1,pt2"
   ]
  },
  {
   "cell_type": "markdown",
   "id": "69100ff8",
   "metadata": {},
   "source": [
    "Conclusion of Question2:\n",
    "  As we don't consider the Heteroskedasticity, we can find that the 500 times simulations, there will only 38.8% will reject the null hypothesis, we can say the coefficient in this model is significant.\n",
    "  But as we consider the Heteroskedasticity, the significance of coefficient well drop to 3.2%.\n",
    "  \n",
    "  Therefore, we can conclude that as model has the problem of Heteroskedasticity and we don't notice that, we will probably make some mistakes about decision."
   ]
  },
  {
   "cell_type": "markdown",
   "id": "6fbc3be3",
   "metadata": {},
   "source": [
    "# Question3"
   ]
  },
  {
   "cell_type": "code",
   "execution_count": 8,
   "id": "b0900a0a",
   "metadata": {},
   "outputs": [
    {
     "data": {
      "text/html": [
       "<div>\n",
       "<style scoped>\n",
       "    .dataframe tbody tr th:only-of-type {\n",
       "        vertical-align: middle;\n",
       "    }\n",
       "\n",
       "    .dataframe tbody tr th {\n",
       "        vertical-align: top;\n",
       "    }\n",
       "\n",
       "    .dataframe thead th {\n",
       "        text-align: right;\n",
       "    }\n",
       "</style>\n",
       "<table border=\"1\" class=\"dataframe\">\n",
       "  <thead>\n",
       "    <tr style=\"text-align: right;\">\n",
       "      <th></th>\n",
       "      <th>y</th>\n",
       "      <th>x1</th>\n",
       "      <th>x2</th>\n",
       "    </tr>\n",
       "  </thead>\n",
       "  <tbody>\n",
       "    <tr>\n",
       "      <th>0</th>\n",
       "      <td>0.258865</td>\n",
       "      <td>0.809454</td>\n",
       "      <td>-0.850617</td>\n",
       "    </tr>\n",
       "    <tr>\n",
       "      <th>1</th>\n",
       "      <td>-0.039455</td>\n",
       "      <td>-0.446757</td>\n",
       "      <td>0.080206</td>\n",
       "    </tr>\n",
       "    <tr>\n",
       "      <th>2</th>\n",
       "      <td>-0.310794</td>\n",
       "      <td>0.313115</td>\n",
       "      <td>0.134218</td>\n",
       "    </tr>\n",
       "    <tr>\n",
       "      <th>3</th>\n",
       "      <td>1.146272</td>\n",
       "      <td>-1.778252</td>\n",
       "      <td>0.604865</td>\n",
       "    </tr>\n",
       "    <tr>\n",
       "      <th>4</th>\n",
       "      <td>0.750544</td>\n",
       "      <td>0.746972</td>\n",
       "      <td>1.437236</td>\n",
       "    </tr>\n",
       "    <tr>\n",
       "      <th>...</th>\n",
       "      <td>...</td>\n",
       "      <td>...</td>\n",
       "      <td>...</td>\n",
       "    </tr>\n",
       "    <tr>\n",
       "      <th>95</th>\n",
       "      <td>2.001613</td>\n",
       "      <td>4.679501</td>\n",
       "      <td>1.606017</td>\n",
       "    </tr>\n",
       "    <tr>\n",
       "      <th>96</th>\n",
       "      <td>-4.237707</td>\n",
       "      <td>3.749259</td>\n",
       "      <td>-11.256596</td>\n",
       "    </tr>\n",
       "    <tr>\n",
       "      <th>97</th>\n",
       "      <td>-0.183491</td>\n",
       "      <td>-0.060120</td>\n",
       "      <td>-0.957113</td>\n",
       "    </tr>\n",
       "    <tr>\n",
       "      <th>98</th>\n",
       "      <td>-2.813361</td>\n",
       "      <td>-2.833672</td>\n",
       "      <td>-4.426994</td>\n",
       "    </tr>\n",
       "    <tr>\n",
       "      <th>99</th>\n",
       "      <td>-0.686855</td>\n",
       "      <td>-0.628021</td>\n",
       "      <td>1.627000</td>\n",
       "    </tr>\n",
       "  </tbody>\n",
       "</table>\n",
       "<p>100 rows × 3 columns</p>\n",
       "</div>"
      ],
      "text/plain": [
       "           y        x1         x2\n",
       "0   0.258865  0.809454  -0.850617\n",
       "1  -0.039455 -0.446757   0.080206\n",
       "2  -0.310794  0.313115   0.134218\n",
       "3   1.146272 -1.778252   0.604865\n",
       "4   0.750544  0.746972   1.437236\n",
       "..       ...       ...        ...\n",
       "95  2.001613  4.679501   1.606017\n",
       "96 -4.237707  3.749259 -11.256596\n",
       "97 -0.183491 -0.060120  -0.957113\n",
       "98 -2.813361 -2.833672  -4.426994\n",
       "99 -0.686855 -0.628021   1.627000\n",
       "\n",
       "[100 rows x 3 columns]"
      ]
     },
     "execution_count": 8,
     "metadata": {},
     "output_type": "execute_result"
    }
   ],
   "source": [
    "data = pd.read_csv('D:/MongTing/EE/桌面/政大/碩一上/計量/HW1_data.csv')\n",
    "data"
   ]
  },
  {
   "cell_type": "code",
   "execution_count": 9,
   "id": "b6a429c0",
   "metadata": {},
   "outputs": [
    {
     "name": "stdout",
     "output_type": "stream",
     "text": [
      "0.6911641256032283 2.3088358743967703\n"
     ]
    },
    {
     "name": "stderr",
     "output_type": "stream",
     "text": [
      "C:\\Users\\ACER\\anaconda3\\lib\\site-packages\\statsmodels\\tsa\\tsatools.py:142: FutureWarning: In a future version of pandas all arguments of concat except for the argument 'objs' will be keyword-only\n",
      "  x = pd.concat(x[::order], 1)\n"
     ]
    }
   ],
   "source": [
    "X = data[['x1','x2']]\n",
    "X = sm.add_constant(X)\n",
    "model = sm.OLS(data['y'],X)\n",
    "res = model.fit()\n",
    "inful = res.get_influence()\n",
    "first = inful.hat_matrix_diag[:50].sum()\n",
    "last = inful.hat_matrix_diag[50:].sum()\n",
    "print(first,last)"
   ]
  },
  {
   "cell_type": "markdown",
   "id": "213a3324",
   "metadata": {},
   "source": [
    "By above result, we can get the leverage of first 50 data is small than the leverage of last 50 data."
   ]
  },
  {
   "cell_type": "code",
   "execution_count": 10,
   "id": "448e267d",
   "metadata": {
    "scrolled": false
   },
   "outputs": [
    {
     "data": {
      "text/html": [
       "<table class=\"simpletable\">\n",
       "<caption>OLS Regression Results</caption>\n",
       "<tr>\n",
       "  <th>Dep. Variable:</th>            <td>y</td>        <th>  R-squared:         </th> <td>   0.784</td>\n",
       "</tr>\n",
       "<tr>\n",
       "  <th>Model:</th>                   <td>OLS</td>       <th>  Adj. R-squared:    </th> <td>   0.780</td>\n",
       "</tr>\n",
       "<tr>\n",
       "  <th>Method:</th>             <td>Least Squares</td>  <th>  F-statistic:       </th> <td>   176.2</td>\n",
       "</tr>\n",
       "<tr>\n",
       "  <th>Date:</th>             <td>Tue, 18 Oct 2022</td> <th>  Prob (F-statistic):</th> <td>5.13e-33</td>\n",
       "</tr>\n",
       "<tr>\n",
       "  <th>Time:</th>                 <td>01:12:47</td>     <th>  Log-Likelihood:    </th> <td> -136.68</td>\n",
       "</tr>\n",
       "<tr>\n",
       "  <th>No. Observations:</th>      <td>   100</td>      <th>  AIC:               </th> <td>   279.4</td>\n",
       "</tr>\n",
       "<tr>\n",
       "  <th>Df Residuals:</th>          <td>    97</td>      <th>  BIC:               </th> <td>   287.2</td>\n",
       "</tr>\n",
       "<tr>\n",
       "  <th>Df Model:</th>              <td>     2</td>      <th>                     </th>     <td> </td>   \n",
       "</tr>\n",
       "<tr>\n",
       "  <th>Covariance Type:</th>      <td>nonrobust</td>    <th>                     </th>     <td> </td>   \n",
       "</tr>\n",
       "</table>\n",
       "<table class=\"simpletable\">\n",
       "<tr>\n",
       "    <td></td>       <th>coef</th>     <th>std err</th>      <th>t</th>      <th>P>|t|</th>  <th>[0.025</th>    <th>0.975]</th>  \n",
       "</tr>\n",
       "<tr>\n",
       "  <th>const</th> <td>    0.1941</td> <td>    0.097</td> <td>    1.992</td> <td> 0.049</td> <td>    0.001</td> <td>    0.387</td>\n",
       "</tr>\n",
       "<tr>\n",
       "  <th>x1</th>    <td>    0.2344</td> <td>    0.028</td> <td>    8.470</td> <td> 0.000</td> <td>    0.179</td> <td>    0.289</td>\n",
       "</tr>\n",
       "<tr>\n",
       "  <th>x2</th>    <td>    0.4583</td> <td>    0.029</td> <td>   16.043</td> <td> 0.000</td> <td>    0.402</td> <td>    0.515</td>\n",
       "</tr>\n",
       "</table>\n",
       "<table class=\"simpletable\">\n",
       "<tr>\n",
       "  <th>Omnibus:</th>       <td> 2.448</td> <th>  Durbin-Watson:     </th> <td>   2.236</td>\n",
       "</tr>\n",
       "<tr>\n",
       "  <th>Prob(Omnibus):</th> <td> 0.294</td> <th>  Jarque-Bera (JB):  </th> <td>   1.980</td>\n",
       "</tr>\n",
       "<tr>\n",
       "  <th>Skew:</th>          <td>-0.157</td> <th>  Prob(JB):          </th> <td>   0.372</td>\n",
       "</tr>\n",
       "<tr>\n",
       "  <th>Kurtosis:</th>      <td> 3.614</td> <th>  Cond. No.          </th> <td>    3.64</td>\n",
       "</tr>\n",
       "</table><br/><br/>Notes:<br/>[1] Standard Errors assume that the covariance matrix of the errors is correctly specified."
      ],
      "text/plain": [
       "<class 'statsmodels.iolib.summary.Summary'>\n",
       "\"\"\"\n",
       "                            OLS Regression Results                            \n",
       "==============================================================================\n",
       "Dep. Variable:                      y   R-squared:                       0.784\n",
       "Model:                            OLS   Adj. R-squared:                  0.780\n",
       "Method:                 Least Squares   F-statistic:                     176.2\n",
       "Date:                Tue, 18 Oct 2022   Prob (F-statistic):           5.13e-33\n",
       "Time:                        01:12:47   Log-Likelihood:                -136.68\n",
       "No. Observations:                 100   AIC:                             279.4\n",
       "Df Residuals:                      97   BIC:                             287.2\n",
       "Df Model:                           2                                         \n",
       "Covariance Type:            nonrobust                                         \n",
       "==============================================================================\n",
       "                 coef    std err          t      P>|t|      [0.025      0.975]\n",
       "------------------------------------------------------------------------------\n",
       "const          0.1941      0.097      1.992      0.049       0.001       0.387\n",
       "x1             0.2344      0.028      8.470      0.000       0.179       0.289\n",
       "x2             0.4583      0.029     16.043      0.000       0.402       0.515\n",
       "==============================================================================\n",
       "Omnibus:                        2.448   Durbin-Watson:                   2.236\n",
       "Prob(Omnibus):                  0.294   Jarque-Bera (JB):                1.980\n",
       "Skew:                          -0.157   Prob(JB):                        0.372\n",
       "Kurtosis:                       3.614   Cond. No.                         3.64\n",
       "==============================================================================\n",
       "\n",
       "Notes:\n",
       "[1] Standard Errors assume that the covariance matrix of the errors is correctly specified.\n",
       "\"\"\""
      ]
     },
     "execution_count": 10,
     "metadata": {},
     "output_type": "execute_result"
    }
   ],
   "source": [
    "X = data[['x1','x2']]\n",
    "X = sm.add_constant(X)\n",
    "model = sm.OLS(data['y'],X)\n",
    "res = model.fit()\n",
    "res.summary()"
   ]
  },
  {
   "cell_type": "code",
   "execution_count": 11,
   "id": "8bb75669",
   "metadata": {},
   "outputs": [
    {
     "name": "stderr",
     "output_type": "stream",
     "text": [
      "C:\\Users\\ACER\\anaconda3\\lib\\site-packages\\statsmodels\\tsa\\tsatools.py:142: FutureWarning: In a future version of pandas all arguments of concat except for the argument 'objs' will be keyword-only\n",
      "  x = pd.concat(x[::order], 1)\n"
     ]
    },
    {
     "data": {
      "text/html": [
       "<table class=\"simpletable\">\n",
       "<caption>OLS Regression Results</caption>\n",
       "<tr>\n",
       "  <th>Dep. Variable:</th>            <td>y</td>        <th>  R-squared:         </th> <td>   0.483</td>\n",
       "</tr>\n",
       "<tr>\n",
       "  <th>Model:</th>                   <td>OLS</td>       <th>  Adj. R-squared:    </th> <td>   0.461</td>\n",
       "</tr>\n",
       "<tr>\n",
       "  <th>Method:</th>             <td>Least Squares</td>  <th>  F-statistic:       </th> <td>   21.96</td>\n",
       "</tr>\n",
       "<tr>\n",
       "  <th>Date:</th>             <td>Tue, 18 Oct 2022</td> <th>  Prob (F-statistic):</th> <td>1.84e-07</td>\n",
       "</tr>\n",
       "<tr>\n",
       "  <th>Time:</th>                 <td>01:12:47</td>     <th>  Log-Likelihood:    </th> <td> -68.446</td>\n",
       "</tr>\n",
       "<tr>\n",
       "  <th>No. Observations:</th>      <td>    50</td>      <th>  AIC:               </th> <td>   142.9</td>\n",
       "</tr>\n",
       "<tr>\n",
       "  <th>Df Residuals:</th>          <td>    47</td>      <th>  BIC:               </th> <td>   148.6</td>\n",
       "</tr>\n",
       "<tr>\n",
       "  <th>Df Model:</th>              <td>     2</td>      <th>                     </th>     <td> </td>   \n",
       "</tr>\n",
       "<tr>\n",
       "  <th>Covariance Type:</th>      <td>nonrobust</td>    <th>                     </th>     <td> </td>   \n",
       "</tr>\n",
       "</table>\n",
       "<table class=\"simpletable\">\n",
       "<tr>\n",
       "    <td></td>       <th>coef</th>     <th>std err</th>      <th>t</th>      <th>P>|t|</th>  <th>[0.025</th>    <th>0.975]</th>  \n",
       "</tr>\n",
       "<tr>\n",
       "  <th>const</th> <td>    0.3238</td> <td>    0.141</td> <td>    2.296</td> <td> 0.026</td> <td>    0.040</td> <td>    0.607</td>\n",
       "</tr>\n",
       "<tr>\n",
       "  <th>x1</th>    <td>    0.4382</td> <td>    0.093</td> <td>    4.694</td> <td> 0.000</td> <td>    0.250</td> <td>    0.626</td>\n",
       "</tr>\n",
       "<tr>\n",
       "  <th>x2</th>    <td>    0.2571</td> <td>    0.118</td> <td>    2.183</td> <td> 0.034</td> <td>    0.020</td> <td>    0.494</td>\n",
       "</tr>\n",
       "</table>\n",
       "<table class=\"simpletable\">\n",
       "<tr>\n",
       "  <th>Omnibus:</th>       <td> 6.522</td> <th>  Durbin-Watson:     </th> <td>   2.237</td>\n",
       "</tr>\n",
       "<tr>\n",
       "  <th>Prob(Omnibus):</th> <td> 0.038</td> <th>  Jarque-Bera (JB):  </th> <td>   5.693</td>\n",
       "</tr>\n",
       "<tr>\n",
       "  <th>Skew:</th>          <td>-0.611</td> <th>  Prob(JB):          </th> <td>  0.0580</td>\n",
       "</tr>\n",
       "<tr>\n",
       "  <th>Kurtosis:</th>      <td> 4.114</td> <th>  Cond. No.          </th> <td>    1.92</td>\n",
       "</tr>\n",
       "</table><br/><br/>Notes:<br/>[1] Standard Errors assume that the covariance matrix of the errors is correctly specified."
      ],
      "text/plain": [
       "<class 'statsmodels.iolib.summary.Summary'>\n",
       "\"\"\"\n",
       "                            OLS Regression Results                            \n",
       "==============================================================================\n",
       "Dep. Variable:                      y   R-squared:                       0.483\n",
       "Model:                            OLS   Adj. R-squared:                  0.461\n",
       "Method:                 Least Squares   F-statistic:                     21.96\n",
       "Date:                Tue, 18 Oct 2022   Prob (F-statistic):           1.84e-07\n",
       "Time:                        01:12:47   Log-Likelihood:                -68.446\n",
       "No. Observations:                  50   AIC:                             142.9\n",
       "Df Residuals:                      47   BIC:                             148.6\n",
       "Df Model:                           2                                         \n",
       "Covariance Type:            nonrobust                                         \n",
       "==============================================================================\n",
       "                 coef    std err          t      P>|t|      [0.025      0.975]\n",
       "------------------------------------------------------------------------------\n",
       "const          0.3238      0.141      2.296      0.026       0.040       0.607\n",
       "x1             0.4382      0.093      4.694      0.000       0.250       0.626\n",
       "x2             0.2571      0.118      2.183      0.034       0.020       0.494\n",
       "==============================================================================\n",
       "Omnibus:                        6.522   Durbin-Watson:                   2.237\n",
       "Prob(Omnibus):                  0.038   Jarque-Bera (JB):                5.693\n",
       "Skew:                          -0.611   Prob(JB):                       0.0580\n",
       "Kurtosis:                       4.114   Cond. No.                         1.92\n",
       "==============================================================================\n",
       "\n",
       "Notes:\n",
       "[1] Standard Errors assume that the covariance matrix of the errors is correctly specified.\n",
       "\"\"\""
      ]
     },
     "execution_count": 11,
     "metadata": {},
     "output_type": "execute_result"
    }
   ],
   "source": [
    "X = data[['x1','x2']]\n",
    "X = sm.add_constant(X)\n",
    "model = sm.OLS(data['y'][:50],X[:50])\n",
    "res = model.fit()\n",
    "res.summary()"
   ]
  },
  {
   "cell_type": "code",
   "execution_count": 12,
   "id": "2d2db9b2",
   "metadata": {},
   "outputs": [
    {
     "data": {
      "text/plain": [
       "2.812511738554523"
      ]
     },
     "execution_count": 12,
     "metadata": {},
     "output_type": "execute_result"
    }
   ],
   "source": [
    "MSPE = np.square(res.predict(X[50:])-data['y'][50:]).mean()\n",
    "MSPE"
   ]
  },
  {
   "cell_type": "code",
   "execution_count": 13,
   "id": "bee885d2",
   "metadata": {},
   "outputs": [
    {
     "name": "stderr",
     "output_type": "stream",
     "text": [
      "C:\\Users\\ACER\\anaconda3\\lib\\site-packages\\statsmodels\\tsa\\tsatools.py:142: FutureWarning: In a future version of pandas all arguments of concat except for the argument 'objs' will be keyword-only\n",
      "  x = pd.concat(x[::order], 1)\n"
     ]
    },
    {
     "data": {
      "text/html": [
       "<table class=\"simpletable\">\n",
       "<caption>OLS Regression Results</caption>\n",
       "<tr>\n",
       "  <th>Dep. Variable:</th>            <td>y</td>        <th>  R-squared:         </th> <td>   0.883</td>\n",
       "</tr>\n",
       "<tr>\n",
       "  <th>Model:</th>                   <td>OLS</td>       <th>  Adj. R-squared:    </th> <td>   0.878</td>\n",
       "</tr>\n",
       "<tr>\n",
       "  <th>Method:</th>             <td>Least Squares</td>  <th>  F-statistic:       </th> <td>   178.1</td>\n",
       "</tr>\n",
       "<tr>\n",
       "  <th>Date:</th>             <td>Tue, 18 Oct 2022</td> <th>  Prob (F-statistic):</th> <td>1.16e-22</td>\n",
       "</tr>\n",
       "<tr>\n",
       "  <th>Time:</th>                 <td>01:12:47</td>     <th>  Log-Likelihood:    </th> <td> -64.101</td>\n",
       "</tr>\n",
       "<tr>\n",
       "  <th>No. Observations:</th>      <td>    50</td>      <th>  AIC:               </th> <td>   134.2</td>\n",
       "</tr>\n",
       "<tr>\n",
       "  <th>Df Residuals:</th>          <td>    47</td>      <th>  BIC:               </th> <td>   139.9</td>\n",
       "</tr>\n",
       "<tr>\n",
       "  <th>Df Model:</th>              <td>     2</td>      <th>                     </th>     <td> </td>   \n",
       "</tr>\n",
       "<tr>\n",
       "  <th>Covariance Type:</th>      <td>nonrobust</td>    <th>                     </th>     <td> </td>   \n",
       "</tr>\n",
       "</table>\n",
       "<table class=\"simpletable\">\n",
       "<tr>\n",
       "    <td></td>       <th>coef</th>     <th>std err</th>      <th>t</th>      <th>P>|t|</th>  <th>[0.025</th>    <th>0.975]</th>  \n",
       "</tr>\n",
       "<tr>\n",
       "  <th>const</th> <td>    0.0911</td> <td>    0.130</td> <td>    0.701</td> <td> 0.487</td> <td>   -0.170</td> <td>    0.352</td>\n",
       "</tr>\n",
       "<tr>\n",
       "  <th>x1</th>    <td>    0.2207</td> <td>    0.027</td> <td>    8.027</td> <td> 0.000</td> <td>    0.165</td> <td>    0.276</td>\n",
       "</tr>\n",
       "<tr>\n",
       "  <th>x2</th>    <td>    0.4627</td> <td>    0.028</td> <td>   16.633</td> <td> 0.000</td> <td>    0.407</td> <td>    0.519</td>\n",
       "</tr>\n",
       "</table>\n",
       "<table class=\"simpletable\">\n",
       "<tr>\n",
       "  <th>Omnibus:</th>       <td> 3.056</td> <th>  Durbin-Watson:     </th> <td>   2.126</td>\n",
       "</tr>\n",
       "<tr>\n",
       "  <th>Prob(Omnibus):</th> <td> 0.217</td> <th>  Jarque-Bera (JB):  </th> <td>   2.357</td>\n",
       "</tr>\n",
       "<tr>\n",
       "  <th>Skew:</th>          <td> 0.184</td> <th>  Prob(JB):          </th> <td>   0.308</td>\n",
       "</tr>\n",
       "<tr>\n",
       "  <th>Kurtosis:</th>      <td> 3.998</td> <th>  Cond. No.          </th> <td>    4.86</td>\n",
       "</tr>\n",
       "</table><br/><br/>Notes:<br/>[1] Standard Errors assume that the covariance matrix of the errors is correctly specified."
      ],
      "text/plain": [
       "<class 'statsmodels.iolib.summary.Summary'>\n",
       "\"\"\"\n",
       "                            OLS Regression Results                            \n",
       "==============================================================================\n",
       "Dep. Variable:                      y   R-squared:                       0.883\n",
       "Model:                            OLS   Adj. R-squared:                  0.878\n",
       "Method:                 Least Squares   F-statistic:                     178.1\n",
       "Date:                Tue, 18 Oct 2022   Prob (F-statistic):           1.16e-22\n",
       "Time:                        01:12:47   Log-Likelihood:                -64.101\n",
       "No. Observations:                  50   AIC:                             134.2\n",
       "Df Residuals:                      47   BIC:                             139.9\n",
       "Df Model:                           2                                         \n",
       "Covariance Type:            nonrobust                                         \n",
       "==============================================================================\n",
       "                 coef    std err          t      P>|t|      [0.025      0.975]\n",
       "------------------------------------------------------------------------------\n",
       "const          0.0911      0.130      0.701      0.487      -0.170       0.352\n",
       "x1             0.2207      0.027      8.027      0.000       0.165       0.276\n",
       "x2             0.4627      0.028     16.633      0.000       0.407       0.519\n",
       "==============================================================================\n",
       "Omnibus:                        3.056   Durbin-Watson:                   2.126\n",
       "Prob(Omnibus):                  0.217   Jarque-Bera (JB):                2.357\n",
       "Skew:                           0.184   Prob(JB):                        0.308\n",
       "Kurtosis:                       3.998   Cond. No.                         4.86\n",
       "==============================================================================\n",
       "\n",
       "Notes:\n",
       "[1] Standard Errors assume that the covariance matrix of the errors is correctly specified.\n",
       "\"\"\""
      ]
     },
     "execution_count": 13,
     "metadata": {},
     "output_type": "execute_result"
    }
   ],
   "source": [
    "X = data[['x1','x2']]\n",
    "X = sm.add_constant(X)\n",
    "model = sm.OLS(data['y'][50:],X[50:])\n",
    "res = model.fit()\n",
    "res.summary()"
   ]
  },
  {
   "cell_type": "code",
   "execution_count": 14,
   "id": "db410204",
   "metadata": {},
   "outputs": [
    {
     "data": {
      "text/plain": [
       "1.0706746704793972"
      ]
     },
     "execution_count": 14,
     "metadata": {},
     "output_type": "execute_result"
    }
   ],
   "source": [
    "MSPE = np.square(res.predict(X[:50])-data['y'][:50]).mean()\n",
    "MSPE"
   ]
  }
 ],
 "metadata": {
  "kernelspec": {
   "display_name": "Python 3 (ipykernel)",
   "language": "python",
   "name": "python3"
  },
  "language_info": {
   "codemirror_mode": {
    "name": "ipython",
    "version": 3
   },
   "file_extension": ".py",
   "mimetype": "text/x-python",
   "name": "python",
   "nbconvert_exporter": "python",
   "pygments_lexer": "ipython3",
   "version": "3.9.7"
  }
 },
 "nbformat": 4,
 "nbformat_minor": 5
}
